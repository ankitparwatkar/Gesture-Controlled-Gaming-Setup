{
 "cells": [
  {
   "cell_type": "markdown",
   "id": "e2a3f9e3",
   "metadata": {},
   "source": [
    "# Setup Web Automation with Selenium\n",
    "Subway Surfers is available on Poki.com. Using Selenium to launch the game and interact with it.\n"
   ]
  },
  {
   "cell_type": "code",
   "execution_count": 2,
   "id": "a04dc629",
   "metadata": {},
   "outputs": [],
   "source": [
    "from selenium import webdriver\n",
    "from selenium.webdriver.common.keys import Keys\n",
    "import time\n",
    "import cv2\n",
    "import mediapipe as mp\n",
    "import pyautogui\n",
    "\n",
    "# Setup browser driver\n",
    "driver = webdriver.Chrome()\n",
    "driver.get(\"https://poki.com/en/g/temple-run-2\")\n",
    "time.sleep(5)  # Allow game page to load\n",
    "\n",
    "# Ensure the game window is focused\n",
    "game_window = driver.find_element(\"tag name\", \"body\")\n",
    "game_window.click()"
   ]
  },
  {
   "cell_type": "markdown",
   "id": "62a07488",
   "metadata": {},
   "source": [
    "# Capture Hand Gestures Map Gestures and Integrate Everything\n",
    "\n",
    "Using OpenCV & MediaPipe to detect fingers\n"
   ]
  },
  {
   "cell_type": "code",
   "execution_count": 3,
   "id": "4914d466",
   "metadata": {},
   "outputs": [],
   "source": [
    "# Initialize MediaPipe Hands\n",
    "mp_hands = mp.solutions.hands\n",
    "hands = mp_hands.Hands(max_num_hands=1, min_detection_confidence=0.85)  # Higher confidence for accuracy\n",
    "mp_draw = mp.solutions.drawing_utils\n",
    "\n",
    "# Increase webcam resolution for better detection\n",
    "cap = cv2.VideoCapture(0)\n",
    "cap.set(cv2.CAP_PROP_FRAME_WIDTH, 640)\n",
    "cap.set(cv2.CAP_PROP_FRAME_HEIGHT, 480)\n",
    "\n",
    "# Reduce lag by processing fewer frames\n",
    "frame_skip = 3  # Process every 3rd frame\n",
    "\n",
    "# Function to map finger count to game actions\n",
    "def perform_action(finger_count):\n",
    "    actions_dict = {\n",
    "        1: 'up',    # Jump\n",
    "        2: 'down',  # Roll\n",
    "        3: 'right', # Move Right\n",
    "        4: 'left'   # Move Left\n",
    "    }\n",
    "\n",
    "    if finger_count in actions_dict:\n",
    "        pyautogui.press(actions_dict[finger_count])  # Send real keypress via PyAutoGUI\n",
    "\n",
    "# Main loop for gesture detection and game control\n",
    "frame_count = 0\n",
    "\n",
    "while cap.isOpened():\n",
    "    ret, frame = cap.read()\n",
    "    if not ret:\n",
    "        break\n",
    "\n",
    "    frame_count += 1\n",
    "    if frame_count % frame_skip != 0:  # Skip some frames to improve performance\n",
    "        continue\n",
    "\n",
    "    frame = cv2.flip(frame, 1)\n",
    "    img_rgb = cv2.cvtColor(frame, cv2.COLOR_BGR2RGB)\n",
    "    results = hands.process(img_rgb)\n",
    "\n",
    "    if results.multi_hand_landmarks:\n",
    "        for hand_landmarks in results.multi_hand_landmarks:\n",
    "            mp_draw.draw_landmarks(frame, hand_landmarks, mp_hands.HAND_CONNECTIONS)\n",
    "\n",
    "            # Enhanced finger detection logic\n",
    "            finger_count = sum([1 for idx, lm in enumerate(hand_landmarks.landmark) \n",
    "                                if idx in [8, 12, 16, 20] and lm.y < hand_landmarks.landmark[idx - 2].y])\n",
    "\n",
    "            # Perform game action smoothly\n",
    "            perform_action(finger_count)\n",
    "            time.sleep(0.05)  # Short delay to avoid input spamming\n",
    "\n",
    "            # Display detected fingers\n",
    "            cv2.putText(frame, f\"Fingers: {finger_count}\", (50, 50), cv2.FONT_HERSHEY_SIMPLEX, 1, (0, 255, 0), 2)\n",
    "\n",
    "    cv2.imshow(\"Gesture-Controlled Temple Run 2\", frame)\n",
    "\n",
    "    if cv2.waitKey(1) & 0xFF == ord('q'):  # Quit on 'q'\n",
    "        break\n",
    "\n",
    "cap.release()\n",
    "cv2.destroyAllWindows()"
   ]
  }
 ],
 "metadata": {
  "kernelspec": {
   "display_name": "Python 3",
   "language": "python",
   "name": "python3"
  },
  "language_info": {
   "codemirror_mode": {
    "name": "ipython",
    "version": 3
   },
   "file_extension": ".py",
   "mimetype": "text/x-python",
   "name": "python",
   "nbconvert_exporter": "python",
   "pygments_lexer": "ipython3",
   "version": "3.12.6"
  }
 },
 "nbformat": 4,
 "nbformat_minor": 5
}
